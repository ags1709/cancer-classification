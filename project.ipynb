{
 "cells": [
  {
   "cell_type": "code",
   "execution_count": 46,
   "metadata": {},
   "outputs": [],
   "source": [
    "import numpy as np\n",
    "import pandas as pd\n",
    "import baselineModels as blm"
   ]
  },
  {
   "cell_type": "code",
   "execution_count": 47,
   "metadata": {},
   "outputs": [],
   "source": [
    "df = pd.read_csv(\"data/Cancer_data.csv\")\n",
    "\n",
    "missing_values = df.isna().sum()\n",
    "# print(f\"Missing values:\\n{missing_values[missing_values > 0]}\")  # Only prints columns with missing values\n",
    "\n",
    "# print(df.iloc[0])\n",
    "y = df[\"diagnosis\"]\n",
    "\n",
    "# Drop useless features\n",
    "df = df.drop([\"Unnamed: 32\", \"diagnosis\", \"id\"], axis=1)\n",
    "# print(df.columns)\n",
    "\n",
    "X = np.array(df)\n",
    "y = np.array(y)\n"
   ]
  },
  {
   "cell_type": "code",
   "execution_count": 48,
   "metadata": {},
   "outputs": [
    {
     "ename": "AttributeError",
     "evalue": "module 'baselineModels' has no attribute 'LogisticRegression'",
     "output_type": "error",
     "traceback": [
      "\u001b[1;31m---------------------------------------------------------------------------\u001b[0m",
      "\u001b[1;31mAttributeError\u001b[0m                            Traceback (most recent call last)",
      "Cell \u001b[1;32mIn[48], line 1\u001b[0m\n\u001b[1;32m----> 1\u001b[0m logisticRegression \u001b[38;5;241m=\u001b[39m \u001b[43mblm\u001b[49m\u001b[38;5;241;43m.\u001b[39;49m\u001b[43mLogisticRegression\u001b[49m()\n\u001b[0;32m      5\u001b[0m \u001b[38;5;66;03m# logisticRegression.fit(X, y)\u001b[39;00m\n\u001b[0;32m      6\u001b[0m \n\u001b[0;32m      7\u001b[0m \u001b[38;5;66;03m# print(logisticRegression.predict(X))\u001b[39;00m\n",
      "\u001b[1;31mAttributeError\u001b[0m: module 'baselineModels' has no attribute 'LogisticRegression'"
     ]
    }
   ],
   "source": [
    "logisticRegression = blm.LogisticRegression()\n",
    "\n",
    "\n",
    "\n",
    "# logisticRegression.fit(X, y)\n",
    "\n",
    "# print(logisticRegression.predict(X))"
   ]
  }
 ],
 "metadata": {
  "kernelspec": {
   "display_name": "Python 3",
   "language": "python",
   "name": "python3"
  },
  "language_info": {
   "codemirror_mode": {
    "name": "ipython",
    "version": 3
   },
   "file_extension": ".py",
   "mimetype": "text/x-python",
   "name": "python",
   "nbconvert_exporter": "python",
   "pygments_lexer": "ipython3",
   "version": "3.12.8"
  }
 },
 "nbformat": 4,
 "nbformat_minor": 2
}
