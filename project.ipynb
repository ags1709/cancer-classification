{
 "cells": [
  {
   "cell_type": "code",
   "execution_count": 177,
   "metadata": {},
   "outputs": [],
   "source": [
    "import numpy as np\n",
    "import pandas as pd\n",
    "from sklearn import model_selection, metrics\n",
    "from sklearn.linear_model import LogisticRegression\n",
    "from sklearn.neighbors import KNeighborsClassifier\n",
    "from sklearn.model_selection import StratifiedKFold\n",
    "from scipy import stats\n",
    "import matplotlib.pyplot as plt"
   ]
  },
  {
   "cell_type": "markdown",
   "metadata": {},
   "source": [
    "#### Data Preprocessing"
   ]
  },
  {
   "cell_type": "code",
   "execution_count": 178,
   "metadata": {},
   "outputs": [],
   "source": [
    "df = pd.read_csv(\"data/Cancer_data.csv\")\n",
    "\n",
    "missing_values = df.isna().sum()\n",
    "# print(f\"Missing values:\\n{missing_values[missing_values > 0]}\")  # Only prints columns with missing values\n",
    "\n",
    "# Transform feature from string to binary. Benign is now '0', and Malignant is '1'.\n",
    "df[\"diagnosis\"] = df[\"diagnosis\"].map({\"B\": 0, \"M\": 1})\n",
    "\n",
    "# print(df.iloc[0])\n",
    "\n",
    "# Select target attribute\n",
    "y = df[\"diagnosis\"]\n",
    "\n",
    "# Drop useless features\n",
    "df = df.drop([\"Unnamed: 32\", \"diagnosis\", \"id\"], axis=1)\n",
    "# print(df.columns)\n",
    "\n",
    "X = np.array(df)\n",
    "y = np.array(y)\n",
    "\n",
    "# NOTE: Might be worth handling class imbalances somehow, currently it is 357(benign) to 212(malignant)\n",
    "# NOTE: Consider other model performance measurements than simply missclassification rate, maybe specificity(FNR). Consider ROC/AUC\n",
    "# NOTE: Possible models: Logistic Regression (Done), KNN(Done), SVM(Not done), NN(Not done), Random Forests(Not done). Bagged/Boosted models\n",
    "# NOTE: Consider LOOCV instead of K-Fold CV\n",
    "# NOTE: Try sequential feature selection?\n",
    "# NOTE: Set random states to make results reproducible\n",
    "# NOTE: Visualization of data. Pairwise feature scatter plot. PCA?"
   ]
  },
  {
   "cell_type": "markdown",
   "metadata": {},
   "source": [
    "#### Building Base Models"
   ]
  },
  {
   "cell_type": "code",
   "execution_count": 179,
   "metadata": {},
   "outputs": [],
   "source": [
    "class BaseLogisticRegression:\n",
    "    def __init__(self, learning_rate=0.00001, num_iterations=1000):\n",
    "        self.learning_rate = learning_rate\n",
    "        self.num_iterations=num_iterations\n",
    "        self.weights = None\n",
    "\n",
    "    def sigmoid(self, x):\n",
    "        return 1 / (1+np.exp(-x))\n",
    "        # return np.where(x >= 0, \n",
    "        #             1 / (1 + np.exp(-x)), \n",
    "        #             np.exp(x) / (1 + np.exp(x)))\n",
    "\n",
    "    def fit(self, X, y):\n",
    "        X = np.hstack([np.ones([X.shape[0], 1]), X])\n",
    "\n",
    "        num_samples, num_features = X.shape\n",
    "        self.weights = np.zeros(num_features)\n",
    "        for i in range(self.num_iterations):\n",
    "            p = self.sigmoid(X @ self.weights)\n",
    "            lossGradient = X.T @ (y - p) / num_samples\n",
    "            self.weights = self.weights + self.learning_rate * (lossGradient)\n",
    "            \n",
    "            # Print loss\n",
    "            # if i % 100 == 0:  # Print every 100 iterations\n",
    "            #     loss = -np.mean(y * np.log(p + 1e-15) + (1 - y) * np.log(1 - p + 1e-15))\n",
    "            #     print(f\"Iteration {i}: Loss = {loss:.4f}\")\n",
    "\n",
    "    def predict_proba(self, X):\n",
    "        X = np.hstack([np.ones([X.shape[0], 1]), X])\n",
    "        probs = self.sigmoid(X @ self.weights)\n",
    "        return np.column_stack([1 - probs, probs])  # Convert to (n_samples, 2) format\n",
    "\n",
    "    def predict(self, X, threshold=0.5):\n",
    "        # X = np.hstack([np.ones([X.shape[0], 1]), X])\n",
    "        probabilities = self.predict_proba(X)[:,1]\n",
    "\n",
    "        # linear_combination = X @ self.weights\n",
    "        # activated = self.sigmoid(linear_combination)\n",
    "        # prediction = activated > threshold\n",
    "        return probabilities > threshold\n",
    "    \n",
    "class BaseKNN:\n",
    "    def __init__(self, X, y, K=5, distanceMeasure=\"Euclidean\"):\n",
    "        self.K = K\n",
    "        self.X = X\n",
    "        self.y = y\n",
    "        self.distanceMeasure = distanceMeasure\n",
    "\n",
    "    def fit(self, X, y):\n",
    "        self.X = X\n",
    "        self.y = y\n",
    "\n",
    "    def getDistance(self, x1, x2):\n",
    "        if self.distanceMeasure == \"Euclidean\":\n",
    "            # distance = np.sqrt(np.sum((x1 - x2)**2))\n",
    "            distance = np.linalg.norm(x1 - x2)\n",
    "        return distance\n",
    "\n",
    "    def get_K_NN(self, x):\n",
    "        distances = np.array([self.getDistance(row, x) for row in self.X])\n",
    "        K_neighbours_indices = np.argsort(distances)[:self.K]\n",
    "        NN_classes = self.y[K_neighbours_indices]\n",
    "        \n",
    "        return NN_classes\n",
    "    \n",
    "    def predict(self, X):\n",
    "        predictions = [stats.mode(self.get_K_NN(x), keepdims=False).mode for x in X]\n",
    "        return np.array(predictions)\n",
    "        # K_NN = self.get_K_NN(x)\n",
    "        # # print(K_NN.shape)\n",
    "        # return stats.mode(K_NN)"
   ]
  },
  {
   "cell_type": "markdown",
   "metadata": {},
   "source": [
    "#### Evaluating Models"
   ]
  },
  {
   "cell_type": "code",
   "execution_count": 180,
   "metadata": {},
   "outputs": [],
   "source": [
    "def get_kfold_accuracy(K, model, X, y):\n",
    "    CV = model_selection.KFold(n_splits=K, shuffle=True)\n",
    "\n",
    "    model_errors = np.zeros(K)\n",
    "\n",
    "    i = 0\n",
    "    for train_index, test_index in CV.split(X):\n",
    "        # extract training and test set for current CV fold\n",
    "        X_train, y_train = X[train_index, :], y[train_index]\n",
    "        X_test, y_test = X[test_index, :], y[test_index]\n",
    "\n",
    "        \n",
    "        model.fit(X_train, y_train)\n",
    "\n",
    "        y_est = model.predict(X_test)\n",
    "        \n",
    "\n",
    "        missclass_rate = np.sum(y_est != y_test) / len(y_test)\n",
    "\n",
    "        model_errors[i] = missclass_rate\n",
    "        i += 1\n",
    "\n",
    "    error = model_errors.mean()\n",
    "    accuracy = 1 - error\n",
    "    return accuracy, error\n",
    "\n",
    "def get_kfold_roc(K, model, X, y):\n",
    "    CV = model_selection.KFold(n_splits=K, shuffle=True)\n",
    "    \n",
    "    all_y_true = []\n",
    "    all_y_prob = []\n",
    "\n",
    "    for train_index, test_index in CV.split(X):\n",
    "        X_train, y_train = X[train_index, :], y[train_index]\n",
    "        X_test, y_test = X[test_index, :], y[test_index]\n",
    "\n",
    "        model.fit(X_train, y_train)\n",
    "        y_prob = model.predict_proba(X_test)[:, 1]  # Get probability estimates\n",
    "\n",
    "        all_y_true.extend(y_test)\n",
    "        all_y_prob.extend(y_prob)\n",
    "\n",
    "    # Compute overall ROC\n",
    "    fpr, tpr, thresholds = metrics.roc_curve(all_y_true, all_y_prob)\n",
    "    auc = metrics.auc(fpr, tpr)\n",
    "\n",
    "    return fpr, tpr, auc, thresholds"
   ]
  },
  {
   "cell_type": "code",
   "execution_count": 181,
   "metadata": {},
   "outputs": [],
   "source": [
    "def plot_roc_curve(fpr, tpr, auc):\n",
    "    plt.figure(figsize=(8, 6))\n",
    "    plt.plot(fpr, tpr, color='blue', lw=2, label=f'ROC Curve (AUC = {auc:.2f})')\n",
    "    plt.plot([0, 1], [0, 1], color='grey', linestyle='--')  # Random guess line\n",
    "    plt.xlabel('False Positive Rate (FPR)')\n",
    "    plt.ylabel('True Positive Rate (TPR)')\n",
    "    plt.title('Receiver Operating Characteristic (ROC) Curve')\n",
    "    plt.legend(loc='lower right')\n",
    "    plt.grid(True)\n",
    "    plt.show()"
   ]
  },
  {
   "cell_type": "code",
   "execution_count": 185,
   "metadata": {},
   "outputs": [
    {
     "data": {
      "image/png": "[encoded data removed]",
      "text/plain": [
       "<Figure size 800x600 with 1 Axes>"
      ]
     },
     "metadata": {},
     "output_type": "display_data"
    }
   ],
   "source": [
    "fpr, tpr, auc, thresholds = get_kfold_roc(10, BaseLogisticRegression(num_iterations=1000), X, y)\n",
    "# fpr2, tpr2, auc2, thresholds2 = get_kfold_roc(10, LogisticRegression(), X, y)\n",
    "\n",
    "plot_roc_curve(fpr, tpr, auc)\n",
    "\n",
    "# for i in range(len(thresholds)):\n",
    "#     print(f\"Threshold: {thresholds[i]:.8f}, FPR: {fpr[i]:.8f}, TPR: {tpr[i]:.8f}\")"
   ]
  },
  {
   "cell_type": "code",
   "execution_count": 183,
   "metadata": {},
   "outputs": [
    {
     "name": "stdout",
     "output_type": "stream",
     "text": [
      "Base model accuracy: 0.9157268170426065\n",
      "Base model error: 0.08427318295739347\n",
      "\n",
      "Nonbase model accuracy: 0.9525375939849624\n",
      "Nonbase model error: 0.04746240601503759\n",
      "\n"
     ]
    }
   ],
   "source": [
    "import warnings \n",
    "warnings.filterwarnings(\"ignore\")\n",
    "# Compare base Logistic Regression to task Logistic Regression through K-fold cross validation\n",
    "base_accuracy, base_error = get_kfold_accuracy(10, BaseLogisticRegression(num_iterations=1000), X, y)\n",
    "nonbase_accuracy, nonbase_error = get_kfold_accuracy(10, LogisticRegression(max_iter=1000), X, y)\n",
    "\n",
    "print(f\"Base model accuracy: {base_accuracy}\\nBase model error: {base_error}\\n\")\n",
    "print(f\"Nonbase model accuracy: {nonbase_accuracy}\\nNonbase model error: {nonbase_error}\\n\")\n"
   ]
  },
  {
   "cell_type": "code",
   "execution_count": 184,
   "metadata": {},
   "outputs": [
    {
     "name": "stdout",
     "output_type": "stream",
     "text": [
      "Base model accuracy: 0.9314849624060151\n",
      "Base model error: 0.06851503759398496\n",
      "\n",
      "Nonbase model accuracy: 0.9278822055137844\n",
      "Nonbase model error: 0.07211779448621554\n",
      "\n"
     ]
    }
   ],
   "source": [
    "# Compare base KNN to task KNN through K-fold cross validation\n",
    "base_accuracy, base_error = get_kfold_accuracy(10, BaseKNN(X, y, 5), X, y)\n",
    "nonbase_accuracy, nonbase_error = get_kfold_accuracy(10, KNeighborsClassifier(n_neighbors=5), X, y)\n",
    "\n",
    "print(f\"Base model accuracy: {base_accuracy}\\nBase model error: {base_error}\\n\")\n",
    "print(f\"Nonbase model accuracy: {nonbase_accuracy}\\nNonbase model error: {nonbase_error}\\n\")"
   ]
  },
  {
   "cell_type": "code",
   "execution_count": null,
   "metadata": {},
   "outputs": [],
   "source": []
  }
 ],
 "metadata": {
  "kernelspec": {
   "display_name": "Python 3",
   "language": "python",
   "name": "python3"
  },
  "language_info": {
   "codemirror_mode": {
    "name": "ipython",
    "version": 3
   },
   "file_extension": ".py",
   "mimetype": "text/x-python",
   "name": "python",
   "nbconvert_exporter": "python",
   "pygments_lexer": "ipython3",
   "version": "3.12.6"
  }
 },
 "nbformat": 4,
 "nbformat_minor": 2
}
