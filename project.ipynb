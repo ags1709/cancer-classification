{
 "cells": [
  {
   "cell_type": "code",
   "execution_count": 303,
   "metadata": {},
   "outputs": [],
   "source": [
    "import numpy as np\n",
    "import pandas as pd\n",
    "from sklearn import model_selection, metrics\n",
    "from sklearn.linear_model import LogisticRegression\n",
    "from sklearn.neighbors import KNeighborsClassifier\n",
    "from sklearn.model_selection import StratifiedKFold\n",
    "from scipy import stats\n",
    "import matplotlib.pyplot as plt\n",
    "from sklearn.preprocessing import StandardScaler\n",
    "from sklearn.metrics import confusion_matrix"
   ]
  },
  {
   "cell_type": "markdown",
   "metadata": {},
   "source": [
    "#### Data Preprocessing"
   ]
  },
  {
   "cell_type": "code",
   "execution_count": 304,
   "metadata": {},
   "outputs": [],
   "source": [
    "df = pd.read_csv(\"data/Cancer_data.csv\")\n",
    "\n",
    "missing_values = df.isna().sum()\n",
    "# print(f\"Missing values:\\n{missing_values[missing_values > 0]}\")  # Only prints columns with missing values\n",
    "\n",
    "# Transform feature from string to binary. Benign is now '0', and Malignant is '1'.\n",
    "df[\"diagnosis\"] = df[\"diagnosis\"].map({\"B\": 0, \"M\": 1})\n",
    "\n",
    "# print(df.iloc[0])\n",
    "\n",
    "# Select target attribute\n",
    "y = df[\"diagnosis\"]\n",
    "\n",
    "# Drop useless features\n",
    "X = df.drop([\"Unnamed: 32\", \"diagnosis\", \"id\"], axis=1)\n",
    "# print(df.columns)\n",
    "\n",
    "X = np.array(X)\n",
    "y = np.array(y)\n",
    "\n",
    "\n",
    "scaler = StandardScaler()\n",
    "X = scaler.fit_transform(X)\n",
    "\n",
    "# Manual standardization\n",
    "# mean = np.mean(X, axis=0)  # Compute mean for each feature\n",
    "# std = np.std(X, axis=0)  # Compute standard deviation for each feature\n",
    "# # Avoid division by zero\n",
    "# std[std == 0] = 1  \n",
    "# X = (X - mean) / std  # Standardization formula\n",
    "\n",
    "# NOTE: Might be worth handling class imbalances somehow, currently it is 357(benign) to 212(malignant)\n",
    "# NOTE: Consider other model performance measurements than simply missclassification rate, maybe specificity(FNR). Consider ROC/AUC\n",
    "# NOTE: Possible models: Logistic Regression (Done), KNN(Done), SVM(Not done), NN(Not done), Random Forests(Not done). Bagged/Boosted models\n",
    "# NOTE: Consider LOOCV instead of K-Fold CV\n",
    "# NOTE: Try sequential feature selection?\n",
    "# NOTE: Set random states to make results reproducible\n",
    "# NOTE: Visualization of data. Pairwise feature scatter plot. PCA?"
   ]
  },
  {
   "cell_type": "markdown",
   "metadata": {},
   "source": [
    "#### Building Base Models"
   ]
  },
  {
   "cell_type": "code",
   "execution_count": null,
   "metadata": {},
   "outputs": [],
   "source": [
    "class BaseLogisticRegression:\n",
    "    def __init__(self, learning_rate=0.00001, num_iterations=1000):\n",
    "        self.learning_rate = learning_rate\n",
    "        self.num_iterations=num_iterations\n",
    "        self.weights = None\n",
    "\n",
    "    def sigmoid(self, x):\n",
    "        return 1 / (1+np.exp(-x))\n",
    "        # return np.where(x >= 0, \n",
    "        #             1 / (1 + np.exp(-x)), \n",
    "        #             np.exp(x) / (1 + np.exp(x)))\n",
    "\n",
    "    def fit(self, X, y):\n",
    "        X = np.hstack([np.ones([X.shape[0], 1]), X])\n",
    "\n",
    "        num_samples, num_features = X.shape\n",
    "        self.weights = np.zeros(num_features)\n",
    "        for i in range(self.num_iterations):\n",
    "            p = self.sigmoid(X @ self.weights)\n",
    "            lossGradient = X.T @ (y - p) / num_samples\n",
    "            self.weights = self.weights + self.learning_rate * (lossGradient)\n",
    "            \n",
    "            # Print loss\n",
    "            # if i % 100 == 0:  # Print every 100 iterations\n",
    "            #     loss = -np.mean(y * np.log(p + 1e-15) + (1 - y) * np.log(1 - p + 1e-15))\n",
    "            #     print(f\"Iteration {i}: Loss = {loss:.4f}\")\n",
    "\n",
    "    def predict_proba(self, X):\n",
    "        X = np.hstack([np.ones([X.shape[0], 1]), X])\n",
    "        probs = self.sigmoid(X @ self.weights)\n",
    "        return np.column_stack([1 - probs, probs])  # Convert to (n_samples, 2) format\n",
    "\n",
    "    def predict(self, X, threshold=0.49864656):\n",
    "        # X = np.hstack([np.ones([X.shape[0], 1]), X])\n",
    "        probabilities = self.predict_proba(X)[:,1]\n",
    "\n",
    "        # linear_combination = X @ self.weights\n",
    "        # activated = self.sigmoid(linear_combination)\n",
    "        # prediction = activated > threshold\n",
    "        return probabilities > threshold\n",
    "    \n",
    "class BaseKNN:\n",
    "    def __init__(self, X, y, K=5, distanceMeasure=\"Euclidean\"):\n",
    "        self.K = K\n",
    "        self.X = X\n",
    "        self.y = y\n",
    "        self.distanceMeasure = distanceMeasure\n",
    "\n",
    "    def fit(self, X, y):\n",
    "        self.X = X\n",
    "        self.y = y\n",
    "\n",
    "    def getDistance(self, x1, x2):\n",
    "        if self.distanceMeasure == \"Euclidean\":\n",
    "            # distance = np.sqrt(np.sum((x1 - x2)**2))\n",
    "            distance = np.linalg.norm(x1 - x2)\n",
    "        return distance\n",
    "\n",
    "    def get_K_NN(self, x):\n",
    "        distances = np.array([self.getDistance(row, x) for row in self.X])\n",
    "        K_neighbours_indices = np.argsort(distances)[:self.K]\n",
    "        NN_classes = self.y[K_neighbours_indices]\n",
    "        \n",
    "        return NN_classes\n",
    "    \n",
    "    def predict(self, X):\n",
    "        predictions = [stats.mode(self.get_K_NN(x), keepdims=False).mode for x in X]\n",
    "        return np.array(predictions)\n",
    "        # K_NN = self.get_K_NN(x)\n",
    "        # # print(K_NN.shape)\n",
    "        # return stats.mode(K_NN)"
   ]
  },
  {
   "cell_type": "markdown",
   "metadata": {},
   "source": [
    "#### Evaluating Models"
   ]
  },
  {
   "cell_type": "code",
   "execution_count": null,
   "metadata": {},
   "outputs": [],
   "source": [
    "def get_kfold_accuracy(K, model, X, y, threshold=0.49864656):\n",
    "    CV = model_selection.KFold(n_splits=K, shuffle=True)\n",
    "\n",
    "    all_y_true = []\n",
    "    all_y_prob = []\n",
    "\n",
    "    for train_index, test_index in CV.split(X):\n",
    "        X_train, y_train = X[train_index, :], y[train_index]\n",
    "        X_test, y_test = X[test_index, :], y[test_index]\n",
    "        \n",
    "        model.fit(X_train, y_train)\n",
    "\n",
    "        y_prob = model.predict_proba(X_test)[:, 1]\n",
    "        \n",
    "        all_y_true.extend(y_test)\n",
    "        all_y_prob.extend(y_prob)\n",
    "\n",
    "    y_est_global = (np.array(all_y_prob) >= threshold).astype(int)\n",
    "    cm = confusion_matrix(all_y_true, y_est_global, labels=[0, 1])\n",
    "\n",
    "    tn, fp, fn, tp = cm.ravel()\n",
    "    fpr = fp / (fp + tn) if (fp + tn) > 0 else 0\n",
    "    tpr = tp / (tp + fn) if (tp + fn) > 0 else 0\n",
    "    fnr = fn / (fn + tp) if (fn + tp) > 0 else 0\n",
    "    tnr = tn / (tn + fp) if (tn + fp) > 0 else 0\n",
    "        \n",
    "    error = (fp + fn) / len(all_y_true)\n",
    "    accuracy = 1 - error\n",
    "    \n",
    "    return accuracy, error, fpr, tpr, fnr, tnr"
   ]
  },
  {
   "cell_type": "code",
   "execution_count": null,
   "metadata": {},
   "outputs": [],
   "source": [
    "def get_kfold_roc(K, model, X, y):\n",
    "    CV = model_selection.KFold(n_splits=K, shuffle=True)\n",
    "    \n",
    "    all_y_true = []\n",
    "    all_y_prob = []\n",
    "\n",
    "    for train_index, test_index in CV.split(X):\n",
    "        X_train, y_train = X[train_index, :], y[train_index]\n",
    "        X_test, y_test = X[test_index, :], y[test_index]\n",
    "\n",
    "        model.fit(X_train, y_train)\n",
    "        y_prob = model.predict_proba(X_test)[:, 1]  # Get probability estimates\n",
    "\n",
    "        all_y_true.extend(y_test)\n",
    "        all_y_prob.extend(y_prob)\n",
    "\n",
    "    # Compute overall ROC\n",
    "    fpr, tpr, thresholds = metrics.roc_curve(all_y_true, all_y_prob)\n",
    "    auc = metrics.auc(fpr, tpr)\n",
    "\n",
    "    return fpr, tpr, auc, thresholds\n",
    "\n",
    "def plot_roc_curve(fpr, tpr, auc):\n",
    "    plt.figure(figsize=(8, 6))\n",
    "    plt.plot(fpr, tpr, color='blue', lw=2, label=f'ROC Curve (AUC = {auc:.2f})')\n",
    "    plt.plot([0, 1], [0, 1], color='grey', linestyle='--')  # Random guess line\n",
    "    plt.xlabel('False Positive Rate (FPR)')\n",
    "    plt.ylabel('True Positive Rate (TPR)')\n",
    "    plt.title('Receiver Operating Characteristic (ROC) Curve')\n",
    "    plt.legend(loc='lower right')\n",
    "    plt.grid(True)\n",
    "    plt.show()"
   ]
  },
  {
   "cell_type": "code",
   "execution_count": 326,
   "metadata": {},
   "outputs": [
    {
     "data": {
      "image/png": "[encoded data removed]",
      "text/plain": [
       "<Figure size 800x600 with 1 Axes>"
      ]
     },
     "metadata": {},
     "output_type": "display_data"
    }
   ],
   "source": [
    "K = X.shape[0]\n",
    "fpr, tpr, auc, thresholds = get_kfold_roc(K, BaseLogisticRegression(num_iterations=1000), X, y)\n",
    "# fpr2, tpr2, auc2, thresholds2 = get_kfold_roc(10, LogisticRegression(), X, y)\n",
    "\n",
    "plot_roc_curve(fpr, tpr, auc)\n",
    "\n",
    "# for i in range(len(thresholds)):\n",
    "#     print(f\"Threshold: {thresholds[i]:.8f}, FPR: {fpr[i]:.8f}, TPR: {tpr[i]:.8f}\")"
   ]
  },
  {
   "cell_type": "code",
   "execution_count": null,
   "metadata": {},
   "outputs": [
    {
     "name": "stdout",
     "output_type": "stream",
     "text": [
      "Base model accuracy: 0.9332161687170475\n",
      "Base model error: 0.06678383128295255\n",
      "Base model fnr: 0.03773584905660377\n",
      "Base model fpr: 0.08403361344537816\n",
      "\n",
      "Nonbase model accuracy: 0.9789103690685413\n",
      "Nonbase model error: 0.0210896309314587\n",
      "NonBase model fnr: 0.0330188679245283\n",
      "NonBase model fpr: 0.014005602240896359\n",
      "\n"
     ]
    }
   ],
   "source": [
    "import warnings \n",
    "warnings.filterwarnings(\"ignore\")\n",
    "\n",
    "# Compare base Logistic Regression to task Logistic Regression through K-fold cross validation\n",
    "K = X.shape[0]\n",
    "base_accuracy, base_error, base_fpr, base_tpr, base_fnr, base_tnr = get_kfold_accuracy(K, BaseLogisticRegression(num_iterations=1000), X, y, threshold=0.49864656)\n",
    "nonbase_accuracy, nonbase_error, nonbase_fpr, nonbase_tpr, nonbase_fnr, nonbase_tnr = get_kfold_accuracy(K, LogisticRegression(max_iter=1000), X, y, threshold=0.49864656)\n",
    "\n",
    "print(f\"Base model accuracy: {base_accuracy}\\nBase model error: {base_error}\\nBase model fnr: {base_fnr}\\nBase model fpr: {base_fpr}\\n\")\n",
    "print(f\"Nonbase model accuracy: {nonbase_accuracy}\\nNonbase model error: {nonbase_error}\\nNonBase model fnr: {nonbase_fnr}\\nNonBase model fpr: {nonbase_fpr}\\n\")"
   ]
  },
  {
   "cell_type": "code",
   "execution_count": null,
   "metadata": {},
   "outputs": [
    {
     "name": "stdout",
     "output_type": "stream",
     "text": [
      "Base model accuracy: 0.9648496240601504\n",
      "Base model error: 0.03515037593984962\n",
      "\n",
      "Nonbase model accuracy: 0.9700814536340853\n",
      "Nonbase model error: 0.029918546365914782\n",
      "\n"
     ]
    }
   ],
   "source": [
    "# Compare base KNN to task KNN through K-fold cross validation\n",
    "base_accuracy, base_error = get_kfold_accuracy(10, BaseKNN(X, y, 5), X, y)\n",
    "nonbase_accuracy, nonbase_error = get_kfold_accuracy(10, KNeighborsClassifier(n_neighbors=5), X, y)\n",
    "\n",
    "print(f\"Base model accuracy: {base_accuracy}\\nBase model error: {base_error}\\n\")\n",
    "print(f\"Nonbase model accuracy: {nonbase_accuracy}\\nNonbase model error: {nonbase_error}\\n\")"
   ]
  },
  {
   "cell_type": "code",
   "execution_count": null,
   "metadata": {},
   "outputs": [],
   "source": []
  }
 ],
 "metadata": {
  "kernelspec": {
   "display_name": "Python 3",
   "language": "python",
   "name": "python3"
  },
  "language_info": {
   "codemirror_mode": {
    "name": "ipython",
    "version": 3
   },
   "file_extension": ".py",
   "mimetype": "text/x-python",
   "name": "python",
   "nbconvert_exporter": "python",
   "pygments_lexer": "ipython3",
   "version": "3.12.6"
  }
 },
 "nbformat": 4,
 "nbformat_minor": 2
}
