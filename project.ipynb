{
 "cells": [
  {
   "cell_type": "code",
   "execution_count": 203,
   "metadata": {},
   "outputs": [],
   "source": [
    "import numpy as np\n",
    "import pandas as pd\n",
    "from sklearn import model_selection\n",
    "from sklearn.linear_model import LogisticRegression\n",
    "from sklearn.model_selection import StratifiedKFold"
   ]
  },
  {
   "cell_type": "code",
   "execution_count": null,
   "metadata": {},
   "outputs": [],
   "source": [
    "df = pd.read_csv(\"data/Cancer_data.csv\")\n",
    "\n",
    "missing_values = df.isna().sum()\n",
    "# print(f\"Missing values:\\n{missing_values[missing_values > 0]}\")  # Only prints columns with missing values\n",
    "\n",
    "# Transform feature from string to binary. Benign is now '0', and Malignant is '1'.\n",
    "df[\"diagnosis\"] = df[\"diagnosis\"].map({\"B\": 0, \"M\": 1})\n",
    "\n",
    "# print(df.iloc[0])\n",
    "\n",
    "# Select target attribute\n",
    "y = df[\"diagnosis\"]\n",
    "\n",
    "# Drop useless features\n",
    "df = df.drop([\"Unnamed: 32\", \"diagnosis\", \"id\"], axis=1)\n",
    "# print(df.columns)\n",
    "\n",
    "X = np.array(df)\n",
    "y = np.array(y)\n",
    "\n",
    "# NOTE: Might be worth evening out class imbalances, currently it is 357 to 212\n"
   ]
  },
  {
   "cell_type": "code",
   "execution_count": 205,
   "metadata": {},
   "outputs": [],
   "source": [
    "class BaseLogisticRegression:\n",
    "    def __init__(self, learning_rate=0.01, num_iterations=1000):\n",
    "        self.learning_rate = learning_rate\n",
    "        self.num_iterations=num_iterations\n",
    "        self.weights = None\n",
    "\n",
    "    def sigmoid(self, x):\n",
    "        return 1 / (1+np.exp(-x))\n",
    "\n",
    "    def fit(self, X, y):\n",
    "        X = np.hstack([np.ones([X.shape[0], 1]), X])\n",
    "\n",
    "        num_samples, num_features = X.shape\n",
    "        self.weights = np.zeros(num_features)\n",
    "        for _ in range(self.num_iterations):\n",
    "            p = self.sigmoid(X @ self.weights)\n",
    "            lossGradient = X.T @ (y - p) / num_samples\n",
    "            self.weights = self.weights + self.learning_rate * (lossGradient)\n",
    "\n",
    "    def predict(self, X, threshold=0.5):\n",
    "        X = np.hstack([np.ones([X.shape[0], 1]), X])\n",
    "\n",
    "        linear_combination = X @ self.weights\n",
    "        activated = self.sigmoid(linear_combination)\n",
    "        prediction = activated > threshold\n",
    "        return prediction\n"
   ]
  },
  {
   "cell_type": "code",
   "execution_count": null,
   "metadata": {},
   "outputs": [],
   "source": [
    "def get_kfold_accuracy(K, model, X, y):\n",
    "    CV = model_selection.KFold(n_splits=K, shuffle=True)\n",
    "\n",
    "    model_errors = np.zeros(K)\n",
    "\n",
    "    i = 0\n",
    "    for train_index, test_index in CV.split(X):\n",
    "        # extract training and test set for current CV fold\n",
    "        X_train, y_train = X[train_index, :], y[train_index]\n",
    "        X_test, y_test = X[test_index, :], y[test_index]\n",
    "\n",
    "        \n",
    "        model.fit(X_train, y_train)\n",
    "\n",
    "        y_est = model.predict(X_test)\n",
    "        \n",
    "\n",
    "        missclass_rate = np.sum(y_est != y_test) / len(y_test)\n",
    "\n",
    "        model_errors[i] = missclass_rate\n",
    "        i += 1\n",
    "\n",
    "    error = model_errors.mean()\n",
    "    accuracy = 1 - error\n",
    "    return accuracy, error"
   ]
  },
  {
   "cell_type": "code",
   "execution_count": 211,
   "metadata": {},
   "outputs": [
    {
     "name": "stdout",
     "output_type": "stream",
     "text": [
      "0.9069235588972431\n",
      "0.0930764411027569\n",
      "0.9525375939849624\n",
      "0.04746240601503759\n"
     ]
    }
   ],
   "source": [
    "import warnings \n",
    "warnings.filterwarnings(\"ignore\")\n",
    "\n",
    "accuracy1, error1 = get_kfold_accuracy(10, BaseLogisticRegression(num_iterations=1000), X, y)\n",
    "accuracy2, error2 = get_kfold_accuracy(10, LogisticRegression(max_iter=1000), X, y)\n",
    "print(accuracy1)\n",
    "print(error1)\n",
    "print(accuracy2)\n",
    "print(error2)\n"
   ]
  }
 ],
 "metadata": {
  "kernelspec": {
   "display_name": "Python 3",
   "language": "python",
   "name": "python3"
  },
  "language_info": {
   "codemirror_mode": {
    "name": "ipython",
    "version": 3
   },
   "file_extension": ".py",
   "mimetype": "text/x-python",
   "name": "python",
   "nbconvert_exporter": "python",
   "pygments_lexer": "ipython3",
   "version": "3.12.6"
  }
 },
 "nbformat": 4,
 "nbformat_minor": 2
}
